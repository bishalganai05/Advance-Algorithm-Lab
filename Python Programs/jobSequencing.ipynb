{
  "nbformat": 4,
  "nbformat_minor": 0,
  "metadata": {
    "colab": {
      "provenance": []
    },
    "kernelspec": {
      "name": "python3",
      "display_name": "Python 3"
    },
    "language_info": {
      "name": "python"
    }
  },
  "cells": [
    {
      "cell_type": "code",
      "execution_count": 1,
      "metadata": {
        "colab": {
          "base_uri": "https://localhost:8080/"
        },
        "id": "3MPvSn5Y4ypT",
        "outputId": "bd1e708a-7c20-43a5-bae7-5c38774dd077"
      },
      "outputs": [
        {
          "output_type": "stream",
          "name": "stdout",
          "text": [
            "Maximum profit: 60\n"
          ]
        }
      ],
      "source": [
        "def job_sequencing(jobs):\n",
        "    jobs.sort(key=lambda x: x[2], reverse=True)\n",
        "    slots = [None] * (max(jobs, key=lambda x: x[1])[1] + 1)\n",
        "    total_profit = 0\n",
        "    for job in jobs:\n",
        "        for i in range(job[1], 0, -1):\n",
        "            if slots[i] is None:\n",
        "                slots[i] = job\n",
        "                total_profit += job[2]\n",
        "                break\n",
        "    return total_profit\n",
        "\n",
        "# Example jobs: Each job is represented as a tuple (job_id, deadline, profit)\n",
        "jobs = [(1, 4, 20), (2, 1, 10), (3, 1, 40), (4, 1, 30)]\n",
        "# Call the function\n",
        "max_profit = job_sequencing(jobs)\n",
        "print(\"Maximum profit:\", max_profit)"
      ]
    }
  ]
}