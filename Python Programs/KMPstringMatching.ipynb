{
  "nbformat": 4,
  "nbformat_minor": 0,
  "metadata": {
    "colab": {
      "provenance": []
    },
    "kernelspec": {
      "name": "python3",
      "display_name": "Python 3"
    },
    "language_info": {
      "name": "python"
    }
  },
  "cells": [
    {
      "cell_type": "code",
      "execution_count": 1,
      "metadata": {
        "colab": {
          "base_uri": "https://localhost:8080/"
        },
        "id": "d3j6sfUi5I4i",
        "outputId": "8b6bc654-de98-4480-91ac-bae986abdb37"
      },
      "outputs": [
        {
          "output_type": "stream",
          "name": "stdout",
          "text": [
            "Pattern found at index 10\n"
          ]
        }
      ],
      "source": [
        "def calculate_lps(pat):\n",
        "    lps = [0] * len(pat)\n",
        "    j = 0\n",
        "    i = 1\n",
        "    while i < len(pat):\n",
        "        if pat[i] == pat[j]:\n",
        "            lps[i] = j + 1\n",
        "            i += 1\n",
        "            j += 1\n",
        "        elif j > 0:\n",
        "            j = lps[j - 1]\n",
        "        else:\n",
        "            i += 1\n",
        "    return lps\n",
        "\n",
        "def KMP_search(pat, text):\n",
        "    lps = calculate_lps(pat)\n",
        "    i = 0\n",
        "    j = 0\n",
        "    m = len(pat)\n",
        "    n = len(text)\n",
        "    while i < n:\n",
        "        if text[i] == pat[j]:\n",
        "            i += 1\n",
        "            j += 1\n",
        "            if j == m:\n",
        "                print(\"Pattern found at index\", i - j)\n",
        "                j = lps[j - 1]\n",
        "        elif j > 0:\n",
        "            j = lps[j - 1]\n",
        "        else:\n",
        "            i += 1\n",
        "\n",
        "# Example usage\n",
        "text = \"ABABDABACDABABCABAB\"\n",
        "pattern = \"ABABCABAB\"\n",
        "KMP_search(pattern, text)\n"
      ]
    }
  ]
}