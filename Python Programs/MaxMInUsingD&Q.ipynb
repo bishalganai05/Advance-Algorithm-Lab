{
  "nbformat": 4,
  "nbformat_minor": 0,
  "metadata": {
    "colab": {
      "provenance": []
    },
    "kernelspec": {
      "name": "python3",
      "display_name": "Python 3"
    },
    "language_info": {
      "name": "python"
    }
  },
  "cells": [
    {
      "cell_type": "code",
      "execution_count": 1,
      "metadata": {
        "colab": {
          "base_uri": "https://localhost:8080/"
        },
        "id": "TSnkUp_y4hjG",
        "outputId": "90d053a3-36ef-4284-c171-0ea362b82ffa"
      },
      "outputs": [
        {
          "output_type": "stream",
          "name": "stdout",
          "text": [
            "Minimum value: 1\n",
            "Maximum value: 9\n"
          ]
        }
      ],
      "source": [
        "def find_min_max(arr, low, high):\n",
        "    if low == high:\n",
        "        return (arr[low], arr[low])\n",
        "\n",
        "    mid = (low + high) // 2\n",
        "    left_min, left_max = find_min_max(arr, low, mid)\n",
        "    right_min, right_max = find_min_max(arr, mid + 1, high)\n",
        "\n",
        "    return (min(left_min, right_min), max(left_max, right_max))\n",
        "\n",
        "# Example array\n",
        "arr = [3, 1, 8, 4, 7, 9, 2, 5]\n",
        "low = 0\n",
        "high = len(arr) - 1\n",
        "\n",
        "# Find minimum and maximum\n",
        "min_val, max_val = find_min_max(arr, low, high)\n",
        "\n",
        "# Print the results\n",
        "print(\"Minimum value:\", min_val)\n",
        "print(\"Maximum value:\", max_val)"
      ]
    }
  ]
}