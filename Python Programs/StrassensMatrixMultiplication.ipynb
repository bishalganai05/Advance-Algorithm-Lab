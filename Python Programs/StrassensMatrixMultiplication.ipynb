{
  "nbformat": 4,
  "nbformat_minor": 0,
  "metadata": {
    "colab": {
      "provenance": []
    },
    "kernelspec": {
      "name": "python3",
      "display_name": "Python 3"
    },
    "language_info": {
      "name": "python"
    }
  },
  "cells": [
    {
      "cell_type": "code",
      "execution_count": 1,
      "metadata": {
        "colab": {
          "base_uri": "https://localhost:8080/"
        },
        "id": "iakn3mGx47zi",
        "outputId": "22970704-6523-4105-c8dd-bc6beac26a9f"
      },
      "outputs": [
        {
          "output_type": "stream",
          "name": "stdout",
          "text": [
            "Result of matrix multiplication using Strassen's algorithm:\n",
            "[[19 22]\n",
            " [43 50]]\n"
          ]
        }
      ],
      "source": [
        "import numpy as np\n",
        "\n",
        "def strassen(a, b):\n",
        "    n = len(a)\n",
        "    if n == 1:\n",
        "        return np.array([[a[0][0] * b[0][0]]])\n",
        "\n",
        "    # pad matrices with zeros to make them even-dimensional\n",
        "    if n % 2 != 0:\n",
        "        a_pad = np.pad(a, ((0, 1), (0, 1)), mode='constant')\n",
        "        b_pad = np.pad(b, ((0, 1), (0, 1)), mode='constant')\n",
        "    else:\n",
        "        a_pad = a\n",
        "        b_pad = b\n",
        "\n",
        "    # divide matrices into 4 submatrices\n",
        "    half_n = n // 2\n",
        "    a11 = a_pad[:half_n, :half_n]\n",
        "    a12 = a_pad[:half_n, half_n:]\n",
        "    a21 = a_pad[half_n:, :half_n]\n",
        "    a22 = a_pad[half_n:, half_n:]\n",
        "    b11 = b_pad[:half_n, :half_n]\n",
        "    b12 = b_pad[:half_n, half_n:]\n",
        "    b21 = b_pad[half_n:, :half_n]\n",
        "    b22 = b_pad[half_n:, half_n:]\n",
        "\n",
        "    # compute submatrices of Strassen's matrix C = A * B\n",
        "    p1 = strassen(a11, b12 - b22)\n",
        "    p2 = strassen(a11 + a12, b22)\n",
        "    p3 = strassen(a21 + a22, b11)\n",
        "    p4 = strassen(a22, b21 - b11)\n",
        "    p5 = strassen(a11 + a22, b11 + b22)\n",
        "    p6 = strassen(a12 - a22, b21 + b22)\n",
        "    p7 = strassen(a11 - a21, b11 + b12)\n",
        "\n",
        "    # combine submatrices to get final result\n",
        "    c11 = p5 + p4 - p2 + p6\n",
        "    c12 = p1 + p2\n",
        "    c21 = p3 + p4\n",
        "    c22 = p1 + p5 - p3 - p7\n",
        "\n",
        "    # remove extra rows and columns from result\n",
        "    if n % 2 != 0:\n",
        "        return np.vstack((np.hstack((c11, c12)), np.hstack((c21, c22))))[:-1, :-1]\n",
        "    else:\n",
        "        return np.vstack((np.hstack((c11, c12)), np.hstack((c21, c22))))\n",
        "\n",
        "# Example matrices\n",
        "A = np.array([[1, 2], [3, 4]])\n",
        "B = np.array([[5, 6], [7, 8]])\n",
        "\n",
        "# Compute the product using Strassen's algorithm\n",
        "C = strassen(A, B)\n",
        "print(\"Result of matrix multiplication using Strassen's algorithm:\")\n",
        "print(C)"
      ]
    }
  ]
}