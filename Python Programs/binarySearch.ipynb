{
  "nbformat": 4,
  "nbformat_minor": 0,
  "metadata": {
    "colab": {
      "provenance": []
    },
    "kernelspec": {
      "name": "python3",
      "display_name": "Python 3"
    },
    "language_info": {
      "name": "python"
    }
  },
  "cells": [
    {
      "cell_type": "code",
      "execution_count": 1,
      "metadata": {
        "colab": {
          "base_uri": "https://localhost:8080/"
        },
        "id": "e_jmBY4E3-GY",
        "outputId": "ddc29d74-ba03-444c-a8cb-bfe3f78a3695"
      },
      "outputs": [
        {
          "output_type": "stream",
          "name": "stdout",
          "text": [
            "Target 5 found at index: 4\n"
          ]
        }
      ],
      "source": [
        "def binary_search(arr, low, high, target):\n",
        "    if low > high:\n",
        "        return -1\n",
        "    mid = (low + high) // 2\n",
        "    if arr[mid] == target:\n",
        "        return mid\n",
        "    elif arr[mid] < target:\n",
        "        return binary_search(arr, mid + 1, high, target)\n",
        "    else:\n",
        "        return binary_search(arr, low, mid - 1, target)\n",
        "\n",
        "# Example array (sorted)\n",
        "arr = [1, 2, 3, 4, 5, 6, 7, 8, 9]\n",
        "target = 5\n",
        "\n",
        "# Perform binary search\n",
        "result_index = binary_search(arr, 0, len(arr) - 1, target)\n",
        "\n",
        "# Display the result\n",
        "if result_index != -1:\n",
        "    print(\"Target\", target, \"found at index:\", result_index)\n",
        "else:\n",
        "    print(\"Target\", target, \"not found in the array.\")"
      ]
    }
  ]
}