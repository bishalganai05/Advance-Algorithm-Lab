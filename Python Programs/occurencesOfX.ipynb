{
  "nbformat": 4,
  "nbformat_minor": 0,
  "metadata": {
    "colab": {
      "provenance": []
    },
    "kernelspec": {
      "name": "python3",
      "display_name": "Python 3"
    },
    "language_info": {
      "name": "python"
    }
  },
  "cells": [
    {
      "cell_type": "code",
      "execution_count": 1,
      "metadata": {
        "colab": {
          "base_uri": "https://localhost:8080/"
        },
        "id": "CAsFvan73umP",
        "outputId": "a3d011d3-f970-4d03-ca33-c6d160e6a697"
      },
      "outputs": [
        {
          "output_type": "stream",
          "name": "stdout",
          "text": [
            "Occurrences of 2 in the array: 3\n"
          ]
        }
      ],
      "source": [
        "def count_occurrences_in_sorted_array_O_n(arr, x):\n",
        "    count = 0\n",
        "    for num in arr:\n",
        "        if num == x:\n",
        "            count += 1\n",
        "    return count\n",
        "\n",
        "# Example array\n",
        "arr = [1, 2, 2, 2, 3, 3, 4, 4, 5, 6]\n",
        "x = 2\n",
        "\n",
        "# Call the function\n",
        "result = count_occurrences_in_sorted_array_O_n(arr, x)\n",
        "print(\"Occurrences of\", x, \"in the array:\", result)"
      ]
    },
    {
      "cell_type": "code",
      "source": [
        "def count_occurrences_in_sorted_array_O_log_n(arr, x):\n",
        "    def binary_search(arr, low, high, target):\n",
        "        if low > high:\n",
        "            return -1\n",
        "        mid = (low + high) // 2\n",
        "        if arr[mid] == target:\n",
        "            return mid\n",
        "        elif arr[mid] < target:\n",
        "            return binary_search(arr, mid + 1, high, target)\n",
        "        else:\n",
        "            return binary_search(arr, low, mid - 1, target)\n",
        "\n",
        "    first_occurrence = binary_search(arr, 0, len(arr) - 1, x)\n",
        "    if first_occurrence == -1:\n",
        "        return 0\n",
        "\n",
        "    count = 1\n",
        "    left = first_occurrence - 1\n",
        "    while left >= 0 and arr[left] == x:\n",
        "        count += 1\n",
        "        left -= 1\n",
        "\n",
        "    right = first_occurrence + 1\n",
        "    while right < len(arr) and arr[right] == x:\n",
        "        count += 1\n",
        "        right += 1\n",
        "\n",
        "    return count\n",
        "\n",
        "# Example array\n",
        "arr = [1, 2, 2, 2, 2, 2, 3, 3, 4, 4, 5, 6]\n",
        "x = 2\n",
        "\n",
        "# Call the function\n",
        "result = count_occurrences_in_sorted_array_O_log_n(arr, x)\n",
        "print(\"Occurrences of\", x, \"in the array:\", result)"
      ],
      "metadata": {
        "colab": {
          "base_uri": "https://localhost:8080/"
        },
        "id": "3UORLo6O32Zz",
        "outputId": "0fa7566f-edc7-4761-c468-c1afc7b2f0e2"
      },
      "execution_count": 2,
      "outputs": [
        {
          "output_type": "stream",
          "name": "stdout",
          "text": [
            "Occurrences of 2 in the array: 5\n"
          ]
        }
      ]
    }
  ]
}