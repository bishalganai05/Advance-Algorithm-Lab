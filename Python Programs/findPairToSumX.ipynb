{
  "nbformat": 4,
  "nbformat_minor": 0,
  "metadata": {
    "colab": {
      "provenance": []
    },
    "kernelspec": {
      "name": "python3",
      "display_name": "Python 3"
    },
    "language_info": {
      "name": "python"
    }
  },
  "cells": [
    {
      "cell_type": "code",
      "execution_count": null,
      "metadata": {
        "colab": {
          "base_uri": "https://localhost:8080/"
        },
        "id": "CaXGj7zB2qTq",
        "outputId": "cf94f319-6786-4075-8f26-07e338c91abb"
      },
      "outputs": [
        {
          "output_type": "stream",
          "name": "stdout",
          "text": [
            "Pair found: (4, 7)\n"
          ]
        }
      ],
      "source": [
        "def find_pair_in_sorted_array_O_n_square(arr, X):\n",
        "    for i in range(len(arr)):\n",
        "        complement = X - arr[i]\n",
        "        for j in range(i + 1, len(arr)):\n",
        "            if arr[j] == complement:\n",
        "                return (arr[i], arr[j])\n",
        "    return None\n",
        "\n",
        "# Example array\n",
        "arr = [1, 3, 4, 7, 9, 11]\n",
        "X = 11\n",
        "\n",
        "# Call the function\n",
        "result = find_pair_in_sorted_array_O_n_square(arr, X)\n",
        "print(\"Pair found:\", result)"
      ]
    },
    {
      "cell_type": "code",
      "source": [
        "def find_pair_in_sorted_array_O_n(arr, X):\n",
        "    complements = {}\n",
        "    for i, num in enumerate(arr):\n",
        "        complement = X - num\n",
        "        if complement in complements:\n",
        "            return (num, complement)\n",
        "        complements[num] = i\n",
        "    return None\n",
        "\n",
        "# Example array\n",
        "arr = [1, 3, 4, 7, 9, 11]\n",
        "X = 10\n",
        "\n",
        "# Call the function\n",
        "result = find_pair_in_sorted_array_O_n(arr, X)\n",
        "print(\"Pair found:\", result)"
      ],
      "metadata": {
        "colab": {
          "base_uri": "https://localhost:8080/"
        },
        "id": "LMAT9ZNE3kAe",
        "outputId": "0f7cec7a-806c-4840-8f08-c3133a7aae3a"
      },
      "execution_count": 2,
      "outputs": [
        {
          "output_type": "stream",
          "name": "stdout",
          "text": [
            "Pair found: (7, 3)\n"
          ]
        }
      ]
    }
  ]
}