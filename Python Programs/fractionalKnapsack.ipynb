{
  "nbformat": 4,
  "nbformat_minor": 0,
  "metadata": {
    "colab": {
      "provenance": []
    },
    "kernelspec": {
      "name": "python3",
      "display_name": "Python 3"
    },
    "language_info": {
      "name": "python"
    }
  },
  "cells": [
    {
      "cell_type": "code",
      "execution_count": 1,
      "metadata": {
        "colab": {
          "base_uri": "https://localhost:8080/"
        },
        "id": "Z8_FpFKX4I7J",
        "outputId": "d328d129-8b41-4049-b9d3-4210ea7e7547"
      },
      "outputs": [
        {
          "output_type": "stream",
          "name": "stdout",
          "text": [
            "Maximum value: 280\n"
          ]
        }
      ],
      "source": [
        "def fractional_knapsack(capacity, items):\n",
        "    items.sort(key=lambda x: x[1] / x[0], reverse=True)\n",
        "    total_value = 0\n",
        "    for item in items:\n",
        "        if capacity >= item[0]:\n",
        "            capacity -= item[0]\n",
        "            total_value += item[1]\n",
        "        else:\n",
        "            total_value += capacity * (item[1] / item[0])\n",
        "            break\n",
        "    return total_value\n",
        "\n",
        "# Example items: Each item is represented by a tuple (weight, value)\n",
        "items = [(10, 60), (20, 100), (30, 120)]\n",
        "capacity = 60\n",
        "\n",
        "# Calculate the maximum value\n",
        "max_value = fractional_knapsack(capacity, items)\n",
        "print(\"Maximum value:\", max_value)\n"
      ]
    }
  ]
}