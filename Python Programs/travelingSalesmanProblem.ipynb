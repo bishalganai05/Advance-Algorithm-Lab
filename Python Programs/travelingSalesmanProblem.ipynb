{
  "nbformat": 4,
  "nbformat_minor": 0,
  "metadata": {
    "colab": {
      "provenance": []
    },
    "kernelspec": {
      "name": "python3",
      "display_name": "Python 3"
    },
    "language_info": {
      "name": "python"
    }
  },
  "cells": [
    {
      "cell_type": "code",
      "execution_count": 5,
      "metadata": {
        "colab": {
          "base_uri": "https://localhost:8080/"
        },
        "id": "IW0Tx75a5cUG",
        "outputId": "a7a1c561-1e37-411b-9024-47070d5cad6f"
      },
      "outputs": [
        {
          "output_type": "stream",
          "name": "stdout",
          "text": [
            "Shortest path length: 80\n"
          ]
        }
      ],
      "source": [
        "import sys\n",
        "\n",
        "def tsp(graph, start):\n",
        "    num_cities = len(graph)\n",
        "\n",
        "    memo = {}\n",
        "\n",
        "    def compute_shortest_path(city, visited):\n",
        "\n",
        "        if len(visited) == num_cities:\n",
        "            return graph[city][start]\n",
        "\n",
        "        if (city, tuple(visited)) in memo:\n",
        "            return memo[(city, tuple(visited))]\n",
        "\n",
        "        min_distance = sys.maxsize\n",
        "\n",
        "\n",
        "        for next_city in range(num_cities):\n",
        "            if next_city not in visited and graph[city][next_city] != 0:\n",
        "\n",
        "                distance = graph[city][next_city] + compute_shortest_path(next_city, visited | {next_city})\n",
        "                min_distance = min(min_distance, distance)\n",
        "\n",
        "        memo[(city, tuple(visited))] = min_distance\n",
        "        return min_distance\n",
        "\n",
        "\n",
        "    return compute_shortest_path(start, {start})\n",
        "\n",
        "\n",
        "if __name__ == \"__main__\":\n",
        "\n",
        "    graph = [\n",
        "        [0, 10, 15, 20],\n",
        "        [10, 0, 35, 25],\n",
        "        [15, 35, 0, 30],\n",
        "        [20, 25, 30, 0]\n",
        "    ]\n",
        "\n",
        "    start_city = 0  # Starting city index\n",
        "    shortest_path_length = tsp(graph, start_city)\n",
        "    print(\"Shortest path length:\", shortest_path_length)\n"
      ]
    }
  ]
}